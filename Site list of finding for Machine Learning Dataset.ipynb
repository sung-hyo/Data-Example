{
 "cells": [
  {
   "cell_type": "markdown",
   "metadata": {},
   "source": [
    "# Site list of finding for Machine Learning Dataset"
   ]
  },
  {
   "cell_type": "markdown",
   "metadata": {},
   "source": [
    "## 1. UCI Machine Learning Repository\n",
    "http://mlr.cs.umass.edu/ml/\n",
    "---\n",
    "웹상에서 가장 오래된 데이터셋 중 하나이며 데이터셋은 사용자가 제공한 것으로, 자료의 정제 수준이 다양하다. "
   ]
  },
  {
   "cell_type": "markdown",
   "metadata": {},
   "source": [
    "#### 데이터 예제: 전복데이터"
   ]
  },
  {
   "cell_type": "code",
   "execution_count": 3,
   "metadata": {},
   "outputs": [
    {
     "data": {
      "text/html": [
       "<div>\n",
       "<style scoped>\n",
       "    .dataframe tbody tr th:only-of-type {\n",
       "        vertical-align: middle;\n",
       "    }\n",
       "\n",
       "    .dataframe tbody tr th {\n",
       "        vertical-align: top;\n",
       "    }\n",
       "\n",
       "    .dataframe thead th {\n",
       "        text-align: right;\n",
       "    }\n",
       "</style>\n",
       "<table border=\"1\" class=\"dataframe\">\n",
       "  <thead>\n",
       "    <tr style=\"text-align: right;\">\n",
       "      <th></th>\n",
       "      <th>0</th>\n",
       "      <th>1</th>\n",
       "      <th>2</th>\n",
       "      <th>3</th>\n",
       "      <th>4</th>\n",
       "      <th>5</th>\n",
       "      <th>6</th>\n",
       "      <th>7</th>\n",
       "      <th>8</th>\n",
       "    </tr>\n",
       "  </thead>\n",
       "  <tbody>\n",
       "    <tr>\n",
       "      <th>0</th>\n",
       "      <td>M</td>\n",
       "      <td>0.455</td>\n",
       "      <td>0.365</td>\n",
       "      <td>0.095</td>\n",
       "      <td>0.5140</td>\n",
       "      <td>0.2245</td>\n",
       "      <td>0.1010</td>\n",
       "      <td>0.150</td>\n",
       "      <td>15</td>\n",
       "    </tr>\n",
       "    <tr>\n",
       "      <th>1</th>\n",
       "      <td>M</td>\n",
       "      <td>0.350</td>\n",
       "      <td>0.265</td>\n",
       "      <td>0.090</td>\n",
       "      <td>0.2255</td>\n",
       "      <td>0.0995</td>\n",
       "      <td>0.0485</td>\n",
       "      <td>0.070</td>\n",
       "      <td>7</td>\n",
       "    </tr>\n",
       "    <tr>\n",
       "      <th>2</th>\n",
       "      <td>F</td>\n",
       "      <td>0.530</td>\n",
       "      <td>0.420</td>\n",
       "      <td>0.135</td>\n",
       "      <td>0.6770</td>\n",
       "      <td>0.2565</td>\n",
       "      <td>0.1415</td>\n",
       "      <td>0.210</td>\n",
       "      <td>9</td>\n",
       "    </tr>\n",
       "    <tr>\n",
       "      <th>3</th>\n",
       "      <td>M</td>\n",
       "      <td>0.440</td>\n",
       "      <td>0.365</td>\n",
       "      <td>0.125</td>\n",
       "      <td>0.5160</td>\n",
       "      <td>0.2155</td>\n",
       "      <td>0.1140</td>\n",
       "      <td>0.155</td>\n",
       "      <td>10</td>\n",
       "    </tr>\n",
       "    <tr>\n",
       "      <th>4</th>\n",
       "      <td>I</td>\n",
       "      <td>0.330</td>\n",
       "      <td>0.255</td>\n",
       "      <td>0.080</td>\n",
       "      <td>0.2050</td>\n",
       "      <td>0.0895</td>\n",
       "      <td>0.0395</td>\n",
       "      <td>0.055</td>\n",
       "      <td>7</td>\n",
       "    </tr>\n",
       "  </tbody>\n",
       "</table>\n",
       "</div>"
      ],
      "text/plain": [
       "   0      1      2      3       4       5       6      7   8\n",
       "0  M  0.455  0.365  0.095  0.5140  0.2245  0.1010  0.150  15\n",
       "1  M  0.350  0.265  0.090  0.2255  0.0995  0.0485  0.070   7\n",
       "2  F  0.530  0.420  0.135  0.6770  0.2565  0.1415  0.210   9\n",
       "3  M  0.440  0.365  0.125  0.5160  0.2155  0.1140  0.155  10\n",
       "4  I  0.330  0.255  0.080  0.2050  0.0895  0.0395  0.055   7"
      ]
     },
     "execution_count": 3,
     "metadata": {},
     "output_type": "execute_result"
    }
   ],
   "source": [
    "import pandas as pd\n",
    "df = pd.read_csv('https://archive.ics.uci.edu/ml/machine-learning-databases/abalone/abalone.data', header=None)\n",
    "df.head()"
   ]
  },
  {
   "cell_type": "markdown",
   "metadata": {},
   "source": [
    "## 2. Kaggle\n",
    "https://www.kaggle.com/\n",
    "---\n",
    "Google 소유(2017년 3월 8일 인수)의 데이터 과학자와 기계 학습을 공부하는 사람들의 온리인 커뮤니티 이다.\n",
    "사용자가 데이터셋을 찾거나 게시를 하고, 모델을 탐색하고 구축하는 다양할 활동을 제공한다.\n",
    "\n",
    "https://en.wikipedia.org/wiki/Kaggle"
   ]
  },
  {
   "cell_type": "code",
   "execution_count": 10,
   "metadata": {},
   "outputs": [
    {
     "name": "stdout",
     "output_type": "stream",
     "text": [
      "Collecting kaggle\n",
      "  Downloading https://files.pythonhosted.org/packages/f4/de/4f22073f3afa618976ee0721b0deb72b5cde2782057e04a815a6828b53f9/kaggle-1.5.4.tar.gz (54kB)\n",
      "Requirement already satisfied: urllib3<1.25,>=1.21.1 in c:\\programdata\\anaconda3\\lib\\site-packages (from kaggle) (1.24.1)\n",
      "Requirement already satisfied: six>=1.10 in c:\\programdata\\anaconda3\\lib\\site-packages (from kaggle) (1.12.0)\n",
      "Requirement already satisfied: certifi in c:\\programdata\\anaconda3\\lib\\site-packages (from kaggle) (2019.3.9)\n",
      "Requirement already satisfied: python-dateutil in c:\\programdata\\anaconda3\\lib\\site-packages (from kaggle) (2.8.0)\n",
      "Requirement already satisfied: requests in c:\\programdata\\anaconda3\\lib\\site-packages (from kaggle) (2.21.0)\n",
      "Requirement already satisfied: tqdm in c:\\programdata\\anaconda3\\lib\\site-packages (from kaggle) (4.31.1)\n",
      "Collecting python-slugify (from kaggle)\n",
      "  Downloading https://files.pythonhosted.org/packages/c1/19/c3cf1dc65e89aa999f85a4a3a4924ccac765a6964b405d487b7b7c8bb39f/python-slugify-3.0.2.tar.gz\n",
      "Requirement already satisfied: chardet<3.1.0,>=3.0.2 in c:\\programdata\\anaconda3\\lib\\site-packages (from requests->kaggle) (3.0.4)\n",
      "Requirement already satisfied: idna<2.9,>=2.5 in c:\\programdata\\anaconda3\\lib\\site-packages (from requests->kaggle) (2.8)\n",
      "Collecting text-unidecode==1.2 (from python-slugify->kaggle)\n",
      "  Downloading https://files.pythonhosted.org/packages/79/42/d717cc2b4520fb09e45b344b1b0b4e81aa672001dd128c180fabc655c341/text_unidecode-1.2-py2.py3-none-any.whl (77kB)\n",
      "Building wheels for collected packages: kaggle, python-slugify\n",
      "  Building wheel for kaggle (setup.py): started\n",
      "  Building wheel for kaggle (setup.py): finished with status 'done'\n",
      "  Stored in directory: C:\\Users\\sungh\\AppData\\Local\\pip\\Cache\\wheels\\87\\ea\\09\\173986e395d051411b9d547a69fe96cdc26208cb1bcc3e5567\n",
      "  Building wheel for python-slugify (setup.py): started\n",
      "  Building wheel for python-slugify (setup.py): finished with status 'done'\n",
      "  Stored in directory: C:\\Users\\sungh\\AppData\\Local\\pip\\Cache\\wheels\\16\\7f\\c3\\6b0582283ad589d68a306da924a78c74546e010d8106b9b3a9\n",
      "Successfully built kaggle python-slugify\n",
      "Installing collected packages: text-unidecode, python-slugify, kaggle\n",
      "Successfully installed kaggle-1.5.4 python-slugify-3.0.2 text-unidecode-1.2\n"
     ]
    }
   ],
   "source": [
    "# 현재 kaggle에서 url로 데이터셋을 읽는게 되지 않아서 api를 이용하여 다운로드 후 사용\n",
    "!pip install kaggle"
   ]
  },
  {
   "cell_type": "code",
   "execution_count": 12,
   "metadata": {},
   "outputs": [
    {
     "name": "stdout",
     "output_type": "stream",
     "text": [
      "Name: kaggle\n",
      "Version: 1.5.4\n",
      "Summary: Kaggle API\n",
      "Home-page: https://github.com/Kaggle/kaggle-api\n",
      "Author: Kaggle\n",
      "Author-email: support@kaggle.com\n",
      "License: Apache 2.0\n",
      "Location: c:\\programdata\\anaconda3\\lib\\site-packages\n",
      "Requires: tqdm, certifi, requests, urllib3, python-dateutil, python-slugify, six\n",
      "Required-by: \n"
     ]
    }
   ],
   "source": [
    "# kaggle에서 api token을 받아서 경로 '사용자/.kaggle/'이동\n",
    "!pip show kaggle"
   ]
  },
  {
   "cell_type": "code",
   "execution_count": 32,
   "metadata": {},
   "outputs": [
    {
     "name": "stdout",
     "output_type": "stream",
     "text": [
      "ref                                                   title                                             size  lastUpdated          downloadCount  \n",
      "----------------------------------------------------  -----------------------------------------------  -----  -------------------  -------------  \n",
      "orgesleka/used-cars-database                          Used cars database                                18MB  2016-11-28 15:46:47          18969  \n",
      "jessicali9530/stanford-cars-dataset                   Stanford Cars Dataset                              2GB  2018-06-05 03:11:16           3919  \n",
      "abineshkumark/carsdata                                Cars Data                                          3KB  2017-03-11 07:26:24           2992  \n",
      "mirosval/personal-cars-classifieds                    Classified Ads for Cars                           92MB  2017-03-16 21:33:43           5644  \n",
      "austinreese/craigslist-carstrucks-data                Craigslist Cars+Trucks Data                      349MB  2019-06-09 17:34:57           1793  \n",
      "ljanjughazyan/cars1                                   Cars Data                                         11KB  2017-12-10 17:23:40            469  \n",
      "doit-intl/autotel-shared-car-locations                Shared Cars Locations                             78MB  2019-01-10 13:06:00            127  \n",
      "karimali/used-cars-data-pakistan                      Pakistan Used Cars                               208KB  2019-03-03 10:57:39           1001  \n",
      "roydatascience/training-car                           Training Set: Self Driving Cars                  308MB  2019-03-07 22:14:49            203  \n",
      "kumaresanmanickavelu/lyft-udacity-challenge           Semantic Segmentation for Self Driving Cars        3GB  2018-05-18 05:59:42            380  \n",
      "roydatascience/test-set-self-driving-cars             Train Set : Self Driving Cars                      2GB  2019-03-08 02:09:30             34  \n",
      "uciml/autompg-dataset                                 Auto-mpg dataset                                   6KB  2017-07-02 05:25:54           4156  \n",
      "karivedha/indian-consumers-cars-purchasing-behaviour  Indian Consumers Cars purchasing behaviour         1KB  2018-01-09 08:27:05            490  \n",
      "eduardo4jesus/stanford-cars-dataset                   Stanford Cars Dataset                              2GB  2019-02-21 18:00:43             78  \n",
      "ahmedzaky01/cars-price                                cars_prices                                        5KB  2018-12-07 07:21:47            152  \n",
      "senemanu/stanfordcarsfcs                              Stanford Cars (Folder, Crop, Segment)              3GB  2019-06-18 07:30:40             18  \n",
      "enikolov/reviews-tripadvisor-hotels-and-edmunds-cars  Reviews - TripAdvisor (hotels) & Edmunds (cars)  276MB  2017-08-18 11:18:14            366  \n",
      "jutrera/stanford-car-dataset-by-classes-folder        Stanford Car Dataset by classes folder             2GB  2018-07-02 07:35:45           5125  \n",
      "nehalbirla/vehicle-dataset-from-cardekho              Vehicle dataset from cardekho                      4KB  2018-06-24 19:03:59            535  \n",
      "tanuprabhu/hyper-cars-2019                            Hyper Cars 2019                                   508B  2019-06-11 04:19:17             26  \n"
     ]
    }
   ],
   "source": [
    "#자동차와 관련된 데이터셋 리스트 출력\n",
    "!kaggle datasets list -s cars"
   ]
  },
  {
   "cell_type": "code",
   "execution_count": 42,
   "metadata": {},
   "outputs": [
    {
     "name": "stdout",
     "output_type": "stream",
     "text": [
      "autompg-dataset.zip: Skipping, found more recently modified local copy (use --force to force download)\n"
     ]
    }
   ],
   "source": [
    "!kaggle datasets download uciml/autompg-dataset"
   ]
  },
  {
   "cell_type": "code",
   "execution_count": 43,
   "metadata": {},
   "outputs": [],
   "source": [
    "df = pd.read_csv('autompg-dataset.zip', compression='zip', header=0, sep=',', quotechar='\"')"
   ]
  },
  {
   "cell_type": "code",
   "execution_count": 44,
   "metadata": {},
   "outputs": [
    {
     "data": {
      "text/html": [
       "<div>\n",
       "<style scoped>\n",
       "    .dataframe tbody tr th:only-of-type {\n",
       "        vertical-align: middle;\n",
       "    }\n",
       "\n",
       "    .dataframe tbody tr th {\n",
       "        vertical-align: top;\n",
       "    }\n",
       "\n",
       "    .dataframe thead th {\n",
       "        text-align: right;\n",
       "    }\n",
       "</style>\n",
       "<table border=\"1\" class=\"dataframe\">\n",
       "  <thead>\n",
       "    <tr style=\"text-align: right;\">\n",
       "      <th></th>\n",
       "      <th>mpg</th>\n",
       "      <th>cylinders</th>\n",
       "      <th>displacement</th>\n",
       "      <th>horsepower</th>\n",
       "      <th>weight</th>\n",
       "      <th>acceleration</th>\n",
       "      <th>model year</th>\n",
       "      <th>origin</th>\n",
       "      <th>car name</th>\n",
       "    </tr>\n",
       "  </thead>\n",
       "  <tbody>\n",
       "    <tr>\n",
       "      <th>0</th>\n",
       "      <td>18.0</td>\n",
       "      <td>8</td>\n",
       "      <td>307.0</td>\n",
       "      <td>130</td>\n",
       "      <td>3504</td>\n",
       "      <td>12.0</td>\n",
       "      <td>70</td>\n",
       "      <td>1</td>\n",
       "      <td>chevrolet chevelle malibu</td>\n",
       "    </tr>\n",
       "    <tr>\n",
       "      <th>1</th>\n",
       "      <td>15.0</td>\n",
       "      <td>8</td>\n",
       "      <td>350.0</td>\n",
       "      <td>165</td>\n",
       "      <td>3693</td>\n",
       "      <td>11.5</td>\n",
       "      <td>70</td>\n",
       "      <td>1</td>\n",
       "      <td>buick skylark 320</td>\n",
       "    </tr>\n",
       "    <tr>\n",
       "      <th>2</th>\n",
       "      <td>18.0</td>\n",
       "      <td>8</td>\n",
       "      <td>318.0</td>\n",
       "      <td>150</td>\n",
       "      <td>3436</td>\n",
       "      <td>11.0</td>\n",
       "      <td>70</td>\n",
       "      <td>1</td>\n",
       "      <td>plymouth satellite</td>\n",
       "    </tr>\n",
       "    <tr>\n",
       "      <th>3</th>\n",
       "      <td>16.0</td>\n",
       "      <td>8</td>\n",
       "      <td>304.0</td>\n",
       "      <td>150</td>\n",
       "      <td>3433</td>\n",
       "      <td>12.0</td>\n",
       "      <td>70</td>\n",
       "      <td>1</td>\n",
       "      <td>amc rebel sst</td>\n",
       "    </tr>\n",
       "    <tr>\n",
       "      <th>4</th>\n",
       "      <td>17.0</td>\n",
       "      <td>8</td>\n",
       "      <td>302.0</td>\n",
       "      <td>140</td>\n",
       "      <td>3449</td>\n",
       "      <td>10.5</td>\n",
       "      <td>70</td>\n",
       "      <td>1</td>\n",
       "      <td>ford torino</td>\n",
       "    </tr>\n",
       "  </tbody>\n",
       "</table>\n",
       "</div>"
      ],
      "text/plain": [
       "    mpg  cylinders  displacement horsepower  weight  acceleration  model year  \\\n",
       "0  18.0          8         307.0        130    3504          12.0          70   \n",
       "1  15.0          8         350.0        165    3693          11.5          70   \n",
       "2  18.0          8         318.0        150    3436          11.0          70   \n",
       "3  16.0          8         304.0        150    3433          12.0          70   \n",
       "4  17.0          8         302.0        140    3449          10.5          70   \n",
       "\n",
       "   origin                   car name  \n",
       "0       1  chevrolet chevelle malibu  \n",
       "1       1          buick skylark 320  \n",
       "2       1         plymouth satellite  \n",
       "3       1              amc rebel sst  \n",
       "4       1                ford torino  "
      ]
     },
     "execution_count": 44,
     "metadata": {},
     "output_type": "execute_result"
    }
   ],
   "source": [
    "df.head()"
   ]
  },
  {
   "cell_type": "markdown",
   "metadata": {},
   "source": [
    "## 3. Google Dataset Search\n",
    "https://toolbox.google.com/datasetsearch\n",
    "---\n",
    "Google Scholar과 작동 방식이 유사하며, 데이터셋의 게시 사이트, 디지털도서관과 개인 웹페이지 등에서 데이터셋을 찾을 수 있게 도와준다. \n",
    "현자 beta 버전이다."
   ]
  },
  {
   "cell_type": "markdown",
   "metadata": {},
   "source": [
    "## 4. VsualData\n",
    "https://www.visualdata.io/\n",
    "---\n",
    "다양한 이미지 공개 데이터셋을 제공하면 해당 자료는 저작권 소유는 작성자에게 있다. "
   ]
  },
  {
   "cell_type": "markdown",
   "metadata": {},
   "source": [
    "## 5. re3data\n",
    "https://www.re3data.org/\n",
    "---\n",
    "모든 학문 분야의 연구 데이터 저장소에 대한 자세한 정보를 제공하여 주며, 세계적인 연구 데이터에 대한 포괄적인 reference를 제공하여 준다. "
   ]
  },
  {
   "cell_type": "markdown",
   "metadata": {},
   "source": [
    "## 6. Nature sicientific data\n",
    "https://www.nature.com/sdata/\n",
    "---\n",
    "Nature에서 출판하는 open-accese 저널이며, 과학적으로 가치 있는 데이터 셋트에 대한 설명과 공유, 재사용을 향상시키는 연구를 위한 개방형 저널이다. \n",
    "데이터 제공자는 데이터 서술매용과 구조화된 설명(meta data)과 함께 데이터 공유 및 재사용을 위한 프레임워크를 제공한다.\n",
    "\n",
    "**Principles**\n",
    "    - These principles are designed to align with and support the FAIR Principles for scientific data management and stewardship, which declare that research data should be Findable, Accessible, Interoperable and Reusable."
   ]
  },
  {
   "cell_type": "markdown",
   "metadata": {},
   "source": [
    "## 7. Skymind\n",
    "https://skymind.ai/wiki/open-datasets\n",
    "---\n",
    "공개 데이터셋에 대한 링크 목록을 제공해 준다.\n"
   ]
  },
  {
   "cell_type": "markdown",
   "metadata": {},
   "source": [
    "### Bioinformation and DDBJ Center\n",
    "https://www.ddbj.nig.ac.jp/index-e.html\n",
    "---\n",
    "DDBJ(DNA DataBank of Japen) 센터는 생명 과학 연구와 advances science의 데이터 공유와 분석 서비스를 제공해 준다. "
   ]
  }
 ],
 "metadata": {
  "kernelspec": {
   "display_name": "Python 3",
   "language": "python",
   "name": "python3"
  },
  "language_info": {
   "codemirror_mode": {
    "name": "ipython",
    "version": 3
   },
   "file_extension": ".py",
   "mimetype": "text/x-python",
   "name": "python",
   "nbconvert_exporter": "python",
   "pygments_lexer": "ipython3",
   "version": "3.7.3"
  }
 },
 "nbformat": 4,
 "nbformat_minor": 2
}
